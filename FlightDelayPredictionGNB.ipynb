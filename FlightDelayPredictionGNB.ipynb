{
 "cells": [
  {
   "cell_type": "markdown",
   "id": "74c98737",
   "metadata": {},
   "source": [
    "# Flight Delay Prediction using Gaussian NaiveBayes"
   ]
  },
  {
   "cell_type": "markdown",
   "id": "069bc5db",
   "metadata": {},
   "source": [
    "### Problem Statement"
   ]
  },
  {
   "cell_type": "markdown",
   "id": "68d8acf2",
   "metadata": {},
   "source": [
    "Predicting flight delays can be useful to a variety of organizations: airport authorities, airlines, and aviation authorities. If such an organization were to provide ongoing real-time assistance with flight delays, it would benefit from some advance notice about flights that are likely to be delayed.\n"
   ]
  },
  {
   "cell_type": "markdown",
   "id": "d9e4f809",
   "metadata": {},
   "source": [
    "### Goal"
   ]
  },
  {
   "cell_type": "markdown",
   "id": "1f58c69b",
   "metadata": {},
   "source": [
    "The goal is to accurately predict whether or not a new flight, will be delayed. The outcome variable is whether the flight was delayed, and thus it has two classes (1 = delayed and 0 = on time).\n",
    "\n",
    "We will use Gaussian Naive Bayes model for the above prediction"
   ]
  },
  {
   "cell_type": "markdown",
   "id": "f0cfe2f2",
   "metadata": {},
   "source": [
    "#### Workflow"
   ]
  },
  {
   "cell_type": "markdown",
   "id": "237804f4",
   "metadata": {},
   "source": [
    "In this simplified illustration, we look at five predictors, or features.\n",
    "\n",
    "    1. Day of the Week\n",
    "    2. Departure Time\n",
    "    3. Origin\n",
    "    4. Destination\n",
    "    5. Carrier\n",
    "    \n",
    "The outcome of interest is whether or not the flight is delayed. Our data consist of all flights from the Washington, DC area into the New York City area during January 2004."
   ]
  },
  {
   "cell_type": "markdown",
   "id": "76a1f2ab",
   "metadata": {},
   "source": [
    "##### Importing libraries"
   ]
  },
  {
   "cell_type": "code",
   "execution_count": 1,
   "id": "097147bd",
   "metadata": {},
   "outputs": [],
   "source": [
    "import pandas as pd\n",
    "import numpy as np\n",
    "from sklearn.model_selection import train_test_split\n",
    "from sklearn.naive_bayes import GaussianNB\n",
    "from sklearn import metrics\n",
    "from sklearn.metrics import classification_report, accuracy_score, confusion_matrix, f1_score, precision_score, recall_score\n",
    "import matplotlib.pyplot as plt\n",
    "import seaborn as sns"
   ]
  },
  {
   "cell_type": "markdown",
   "id": "38b0e076",
   "metadata": {},
   "source": [
    "### Step 1: Reading and Understanding the Data"
   ]
  },
  {
   "cell_type": "code",
   "execution_count": 2,
   "id": "56c32006",
   "metadata": {},
   "outputs": [],
   "source": [
    "flight = pd.read_excel(r\"C:\\Users\\sundh\\Downloads\\Telegram Desktop\\Flight Data (2).xlsx\")"
   ]
  },
  {
   "cell_type": "code",
   "execution_count": 3,
   "id": "47af0472",
   "metadata": {},
   "outputs": [
    {
     "data": {
      "text/html": [
       "<div>\n",
       "<style scoped>\n",
       "    .dataframe tbody tr th:only-of-type {\n",
       "        vertical-align: middle;\n",
       "    }\n",
       "\n",
       "    .dataframe tbody tr th {\n",
       "        vertical-align: top;\n",
       "    }\n",
       "\n",
       "    .dataframe thead th {\n",
       "        text-align: right;\n",
       "    }\n",
       "</style>\n",
       "<table border=\"1\" class=\"dataframe\">\n",
       "  <thead>\n",
       "    <tr style=\"text-align: right;\">\n",
       "      <th></th>\n",
       "      <th>Carrier</th>\n",
       "      <th>Departure Time</th>\n",
       "      <th>Destination</th>\n",
       "      <th>Distance</th>\n",
       "      <th>Date</th>\n",
       "      <th>Flight Number</th>\n",
       "      <th>Origin</th>\n",
       "      <th>Day of the Week</th>\n",
       "      <th>Day of the Month</th>\n",
       "      <th>Delayed</th>\n",
       "    </tr>\n",
       "  </thead>\n",
       "  <tbody>\n",
       "    <tr>\n",
       "      <th>0</th>\n",
       "      <td>OH</td>\n",
       "      <td>1455</td>\n",
       "      <td>JFK</td>\n",
       "      <td>184</td>\n",
       "      <td>2004-01-01 00:00:00</td>\n",
       "      <td>5935</td>\n",
       "      <td>BWI</td>\n",
       "      <td>4</td>\n",
       "      <td>1</td>\n",
       "      <td>ontime</td>\n",
       "    </tr>\n",
       "    <tr>\n",
       "      <th>1</th>\n",
       "      <td>DH</td>\n",
       "      <td>1640</td>\n",
       "      <td>JFK</td>\n",
       "      <td>213</td>\n",
       "      <td>2004-01-01 00:00:00</td>\n",
       "      <td>6155</td>\n",
       "      <td>DCA</td>\n",
       "      <td>4</td>\n",
       "      <td>1</td>\n",
       "      <td>ontime</td>\n",
       "    </tr>\n",
       "    <tr>\n",
       "      <th>2</th>\n",
       "      <td>DH</td>\n",
       "      <td>1245</td>\n",
       "      <td>LGA</td>\n",
       "      <td>229</td>\n",
       "      <td>2004-01-01 00:00:00</td>\n",
       "      <td>7208</td>\n",
       "      <td>IAD</td>\n",
       "      <td>4</td>\n",
       "      <td>1</td>\n",
       "      <td>ontime</td>\n",
       "    </tr>\n",
       "    <tr>\n",
       "      <th>3</th>\n",
       "      <td>DH</td>\n",
       "      <td>1709</td>\n",
       "      <td>LGA</td>\n",
       "      <td>229</td>\n",
       "      <td>2004-01-01 00:00:00</td>\n",
       "      <td>7215</td>\n",
       "      <td>IAD</td>\n",
       "      <td>4</td>\n",
       "      <td>1</td>\n",
       "      <td>ontime</td>\n",
       "    </tr>\n",
       "    <tr>\n",
       "      <th>4</th>\n",
       "      <td>DH</td>\n",
       "      <td>1035</td>\n",
       "      <td>LGA</td>\n",
       "      <td>229</td>\n",
       "      <td>2004-01-01 00:00:00</td>\n",
       "      <td>7792</td>\n",
       "      <td>IAD</td>\n",
       "      <td>4</td>\n",
       "      <td>1</td>\n",
       "      <td>ontime</td>\n",
       "    </tr>\n",
       "  </tbody>\n",
       "</table>\n",
       "</div>"
      ],
      "text/plain": [
       "  Carrier  Departure Time Destination  Distance                 Date  \\\n",
       "0      OH            1455         JFK       184  2004-01-01 00:00:00   \n",
       "1      DH            1640         JFK       213  2004-01-01 00:00:00   \n",
       "2      DH            1245         LGA       229  2004-01-01 00:00:00   \n",
       "3      DH            1709         LGA       229  2004-01-01 00:00:00   \n",
       "4      DH            1035         LGA       229  2004-01-01 00:00:00   \n",
       "\n",
       "   Flight Number Origin  Day of the Week  Day of the Month Delayed   \n",
       "0           5935    BWI                4                 1   ontime  \n",
       "1           6155    DCA                4                 1   ontime  \n",
       "2           7208    IAD                4                 1   ontime  \n",
       "3           7215    IAD                4                 1   ontime  \n",
       "4           7792    IAD                4                 1   ontime  "
      ]
     },
     "execution_count": 3,
     "metadata": {},
     "output_type": "execute_result"
    }
   ],
   "source": [
    "flight.head()"
   ]
  },
  {
   "cell_type": "code",
   "execution_count": 4,
   "id": "1eb4d1b6",
   "metadata": {},
   "outputs": [
    {
     "data": {
      "text/plain": [
       "(2199, 10)"
      ]
     },
     "execution_count": 4,
     "metadata": {},
     "output_type": "execute_result"
    }
   ],
   "source": [
    "flight.shape"
   ]
  },
  {
   "cell_type": "code",
   "execution_count": 5,
   "id": "0e1612c1",
   "metadata": {
    "scrolled": true
   },
   "outputs": [
    {
     "name": "stdout",
     "output_type": "stream",
     "text": [
      "<class 'pandas.core.frame.DataFrame'>\n",
      "RangeIndex: 2199 entries, 0 to 2198\n",
      "Data columns (total 10 columns):\n",
      " #   Column            Non-Null Count  Dtype \n",
      "---  ------            --------------  ----- \n",
      " 0   Carrier           2199 non-null   object\n",
      " 1   Departure Time    2199 non-null   int64 \n",
      " 2   Destination       2199 non-null   object\n",
      " 3   Distance          2199 non-null   int64 \n",
      " 4   Date              2199 non-null   object\n",
      " 5   Flight Number     2199 non-null   int64 \n",
      " 6   Origin            2199 non-null   object\n",
      " 7   Day of the Week   2199 non-null   int64 \n",
      " 8   Day of the Month  2199 non-null   int64 \n",
      " 9   Delayed           2199 non-null   object\n",
      "dtypes: int64(5), object(5)\n",
      "memory usage: 171.9+ KB\n"
     ]
    }
   ],
   "source": [
    "flight.info()"
   ]
  },
  {
   "cell_type": "markdown",
   "id": "c3678be7",
   "metadata": {},
   "source": [
    "### Numerical and Categorical Features in the Dataset"
   ]
  },
  {
   "cell_type": "markdown",
   "id": "06fbd384",
   "metadata": {},
   "source": [
    "##### Numerical\n",
    "    \n",
    "    1. Departure Time\n",
    "    2. Distance  \n",
    "    3. Flight Number\n",
    "    4. Day of the Week\n",
    "    5. Day of the Month\n",
    "\n",
    "##### Categorical\n",
    "\n",
    "    1. Carrier \n",
    "    2. Destination  \n",
    "    3. Origin \n",
    "    4. Delayed"
   ]
  },
  {
   "cell_type": "code",
   "execution_count": 6,
   "id": "518bf03b",
   "metadata": {
    "scrolled": false
   },
   "outputs": [
    {
     "data": {
      "text/html": [
       "<div>\n",
       "<style scoped>\n",
       "    .dataframe tbody tr th:only-of-type {\n",
       "        vertical-align: middle;\n",
       "    }\n",
       "\n",
       "    .dataframe tbody tr th {\n",
       "        vertical-align: top;\n",
       "    }\n",
       "\n",
       "    .dataframe thead th {\n",
       "        text-align: right;\n",
       "    }\n",
       "</style>\n",
       "<table border=\"1\" class=\"dataframe\">\n",
       "  <thead>\n",
       "    <tr style=\"text-align: right;\">\n",
       "      <th></th>\n",
       "      <th>Departure Time</th>\n",
       "      <th>Distance</th>\n",
       "      <th>Flight Number</th>\n",
       "      <th>Day of the Week</th>\n",
       "      <th>Day of the Month</th>\n",
       "    </tr>\n",
       "  </thead>\n",
       "  <tbody>\n",
       "    <tr>\n",
       "      <th>count</th>\n",
       "      <td>2199.000000</td>\n",
       "      <td>2199.000000</td>\n",
       "      <td>2199.000000</td>\n",
       "      <td>2199.000000</td>\n",
       "      <td>2199.000000</td>\n",
       "    </tr>\n",
       "    <tr>\n",
       "      <th>mean</th>\n",
       "      <td>1370.490223</td>\n",
       "      <td>211.855844</td>\n",
       "      <td>3811.567531</td>\n",
       "      <td>3.906321</td>\n",
       "      <td>16.020464</td>\n",
       "    </tr>\n",
       "    <tr>\n",
       "      <th>std</th>\n",
       "      <td>440.893123</td>\n",
       "      <td>13.312840</td>\n",
       "      <td>2408.017328</td>\n",
       "      <td>1.902862</td>\n",
       "      <td>8.679829</td>\n",
       "    </tr>\n",
       "    <tr>\n",
       "      <th>min</th>\n",
       "      <td>548.000000</td>\n",
       "      <td>169.000000</td>\n",
       "      <td>746.000000</td>\n",
       "      <td>1.000000</td>\n",
       "      <td>1.000000</td>\n",
       "    </tr>\n",
       "    <tr>\n",
       "      <th>25%</th>\n",
       "      <td>1011.000000</td>\n",
       "      <td>213.000000</td>\n",
       "      <td>2156.000000</td>\n",
       "      <td>2.000000</td>\n",
       "      <td>8.000000</td>\n",
       "    </tr>\n",
       "    <tr>\n",
       "      <th>50%</th>\n",
       "      <td>1450.000000</td>\n",
       "      <td>214.000000</td>\n",
       "      <td>2385.000000</td>\n",
       "      <td>4.000000</td>\n",
       "      <td>16.000000</td>\n",
       "    </tr>\n",
       "    <tr>\n",
       "      <th>75%</th>\n",
       "      <td>1709.000000</td>\n",
       "      <td>214.000000</td>\n",
       "      <td>5935.000000</td>\n",
       "      <td>5.000000</td>\n",
       "      <td>23.000000</td>\n",
       "    </tr>\n",
       "    <tr>\n",
       "      <th>max</th>\n",
       "      <td>2330.000000</td>\n",
       "      <td>229.000000</td>\n",
       "      <td>7924.000000</td>\n",
       "      <td>7.000000</td>\n",
       "      <td>31.000000</td>\n",
       "    </tr>\n",
       "  </tbody>\n",
       "</table>\n",
       "</div>"
      ],
      "text/plain": [
       "       Departure Time     Distance  Flight Number  Day of the Week  \\\n",
       "count     2199.000000  2199.000000    2199.000000      2199.000000   \n",
       "mean      1370.490223   211.855844    3811.567531         3.906321   \n",
       "std        440.893123    13.312840    2408.017328         1.902862   \n",
       "min        548.000000   169.000000     746.000000         1.000000   \n",
       "25%       1011.000000   213.000000    2156.000000         2.000000   \n",
       "50%       1450.000000   214.000000    2385.000000         4.000000   \n",
       "75%       1709.000000   214.000000    5935.000000         5.000000   \n",
       "max       2330.000000   229.000000    7924.000000         7.000000   \n",
       "\n",
       "       Day of the Month  \n",
       "count       2199.000000  \n",
       "mean          16.020464  \n",
       "std            8.679829  \n",
       "min            1.000000  \n",
       "25%            8.000000  \n",
       "50%           16.000000  \n",
       "75%           23.000000  \n",
       "max           31.000000  "
      ]
     },
     "execution_count": 6,
     "metadata": {},
     "output_type": "execute_result"
    }
   ],
   "source": [
    "flight.describe()"
   ]
  },
  {
   "cell_type": "markdown",
   "id": "ff39367c",
   "metadata": {},
   "source": [
    "### Step 2 : Data Cleaning and Preparation\n"
   ]
  },
  {
   "cell_type": "markdown",
   "id": "5d92e968",
   "metadata": {},
   "source": [
    "Converting the Date column in the dataset from object type to datetime format "
   ]
  },
  {
   "cell_type": "code",
   "execution_count": 7,
   "id": "f2465378",
   "metadata": {},
   "outputs": [
    {
     "data": {
      "text/plain": [
       "0      2004-01-01\n",
       "1      2004-01-01\n",
       "2      2004-01-01\n",
       "3      2004-01-01\n",
       "4      2004-01-01\n",
       "          ...    \n",
       "2194   2004-01-31\n",
       "2195   2004-01-31\n",
       "2196   2004-01-31\n",
       "2197   2004-01-31\n",
       "2198   2004-01-31\n",
       "Name: Date, Length: 2199, dtype: datetime64[ns]"
      ]
     },
     "execution_count": 7,
     "metadata": {},
     "output_type": "execute_result"
    }
   ],
   "source": [
    "pd.to_datetime(flight.Date)"
   ]
  },
  {
   "cell_type": "code",
   "execution_count": 8,
   "id": "b086db30",
   "metadata": {},
   "outputs": [],
   "source": [
    "date = flight['Date'].apply(lambda x : pd.to_datetime(x))\n",
    "flight.insert(5,\"TDate\", date)\n",
    "flight.drop(['Date'], axis=1, inplace=True)"
   ]
  },
  {
   "cell_type": "code",
   "execution_count": 9,
   "id": "1ef5ed20",
   "metadata": {},
   "outputs": [],
   "source": [
    "flight.rename(columns={'TDate':'Date'}, inplace = True)"
   ]
  },
  {
   "cell_type": "code",
   "execution_count": 10,
   "id": "d5ad4770",
   "metadata": {},
   "outputs": [
    {
     "data": {
      "text/html": [
       "<div>\n",
       "<style scoped>\n",
       "    .dataframe tbody tr th:only-of-type {\n",
       "        vertical-align: middle;\n",
       "    }\n",
       "\n",
       "    .dataframe tbody tr th {\n",
       "        vertical-align: top;\n",
       "    }\n",
       "\n",
       "    .dataframe thead th {\n",
       "        text-align: right;\n",
       "    }\n",
       "</style>\n",
       "<table border=\"1\" class=\"dataframe\">\n",
       "  <thead>\n",
       "    <tr style=\"text-align: right;\">\n",
       "      <th></th>\n",
       "      <th>Carrier</th>\n",
       "      <th>Departure Time</th>\n",
       "      <th>Destination</th>\n",
       "      <th>Distance</th>\n",
       "      <th>Date</th>\n",
       "      <th>Flight Number</th>\n",
       "      <th>Origin</th>\n",
       "      <th>Day of the Week</th>\n",
       "      <th>Day of the Month</th>\n",
       "      <th>Delayed</th>\n",
       "    </tr>\n",
       "  </thead>\n",
       "  <tbody>\n",
       "    <tr>\n",
       "      <th>0</th>\n",
       "      <td>OH</td>\n",
       "      <td>1455</td>\n",
       "      <td>JFK</td>\n",
       "      <td>184</td>\n",
       "      <td>2004-01-01</td>\n",
       "      <td>5935</td>\n",
       "      <td>BWI</td>\n",
       "      <td>4</td>\n",
       "      <td>1</td>\n",
       "      <td>ontime</td>\n",
       "    </tr>\n",
       "    <tr>\n",
       "      <th>1</th>\n",
       "      <td>DH</td>\n",
       "      <td>1640</td>\n",
       "      <td>JFK</td>\n",
       "      <td>213</td>\n",
       "      <td>2004-01-01</td>\n",
       "      <td>6155</td>\n",
       "      <td>DCA</td>\n",
       "      <td>4</td>\n",
       "      <td>1</td>\n",
       "      <td>ontime</td>\n",
       "    </tr>\n",
       "    <tr>\n",
       "      <th>2</th>\n",
       "      <td>DH</td>\n",
       "      <td>1245</td>\n",
       "      <td>LGA</td>\n",
       "      <td>229</td>\n",
       "      <td>2004-01-01</td>\n",
       "      <td>7208</td>\n",
       "      <td>IAD</td>\n",
       "      <td>4</td>\n",
       "      <td>1</td>\n",
       "      <td>ontime</td>\n",
       "    </tr>\n",
       "    <tr>\n",
       "      <th>3</th>\n",
       "      <td>DH</td>\n",
       "      <td>1709</td>\n",
       "      <td>LGA</td>\n",
       "      <td>229</td>\n",
       "      <td>2004-01-01</td>\n",
       "      <td>7215</td>\n",
       "      <td>IAD</td>\n",
       "      <td>4</td>\n",
       "      <td>1</td>\n",
       "      <td>ontime</td>\n",
       "    </tr>\n",
       "    <tr>\n",
       "      <th>4</th>\n",
       "      <td>DH</td>\n",
       "      <td>1035</td>\n",
       "      <td>LGA</td>\n",
       "      <td>229</td>\n",
       "      <td>2004-01-01</td>\n",
       "      <td>7792</td>\n",
       "      <td>IAD</td>\n",
       "      <td>4</td>\n",
       "      <td>1</td>\n",
       "      <td>ontime</td>\n",
       "    </tr>\n",
       "  </tbody>\n",
       "</table>\n",
       "</div>"
      ],
      "text/plain": [
       "  Carrier  Departure Time Destination  Distance       Date  Flight Number  \\\n",
       "0      OH            1455         JFK       184 2004-01-01           5935   \n",
       "1      DH            1640         JFK       213 2004-01-01           6155   \n",
       "2      DH            1245         LGA       229 2004-01-01           7208   \n",
       "3      DH            1709         LGA       229 2004-01-01           7215   \n",
       "4      DH            1035         LGA       229 2004-01-01           7792   \n",
       "\n",
       "  Origin  Day of the Week  Day of the Month Delayed   \n",
       "0    BWI                4                 1   ontime  \n",
       "1    DCA                4                 1   ontime  \n",
       "2    IAD                4                 1   ontime  \n",
       "3    IAD                4                 1   ontime  \n",
       "4    IAD                4                 1   ontime  "
      ]
     },
     "execution_count": 10,
     "metadata": {},
     "output_type": "execute_result"
    }
   ],
   "source": [
    "flight.head()"
   ]
  },
  {
   "cell_type": "code",
   "execution_count": 11,
   "id": "14a4772d",
   "metadata": {},
   "outputs": [
    {
     "data": {
      "text/plain": [
       "Index(['Carrier', 'Departure Time', 'Destination', 'Distance', 'Date',\n",
       "       'Flight Number', 'Origin', 'Day of the Week', 'Day of the Month',\n",
       "       'Delayed '],\n",
       "      dtype='object')"
      ]
     },
     "execution_count": 11,
     "metadata": {},
     "output_type": "execute_result"
    }
   ],
   "source": [
    "flight.columns"
   ]
  },
  {
   "cell_type": "markdown",
   "id": "29908906",
   "metadata": {},
   "source": [
    "###### Renaming the Delayed Column"
   ]
  },
  {
   "cell_type": "code",
   "execution_count": 12,
   "id": "04d6091f",
   "metadata": {},
   "outputs": [],
   "source": [
    "flight.rename(columns={'Delayed ':'Delayed'}, inplace = True)"
   ]
  },
  {
   "cell_type": "markdown",
   "id": "4099ceb3",
   "metadata": {},
   "source": [
    "##### Features of interest\n",
    "\n",
    "    1. Day of the Week\n",
    "    2. Departure Time\n",
    "    3. Origin\n",
    "    4. Destination\n",
    "    5. Carrier"
   ]
  },
  {
   "cell_type": "code",
   "execution_count": 13,
   "id": "0faacab5",
   "metadata": {},
   "outputs": [
    {
     "data": {
      "text/plain": [
       "5    390\n",
       "4    372\n",
       "3    320\n",
       "1    307\n",
       "2    307\n",
       "7    253\n",
       "6    250\n",
       "Name: Day of the Week, dtype: int64"
      ]
     },
     "execution_count": 13,
     "metadata": {},
     "output_type": "execute_result"
    }
   ],
   "source": [
    "flight['Day of the Week'].value_counts()"
   ]
  },
  {
   "cell_type": "markdown",
   "id": "ed85dc91",
   "metadata": {},
   "source": [
    "From the above observation it can be seen that flights are flown on everyday of the week"
   ]
  },
  {
   "cell_type": "code",
   "execution_count": 14,
   "id": "e228cf8a",
   "metadata": {},
   "outputs": [
    {
     "data": {
      "text/plain": [
       "1455    26\n",
       "1456    23\n",
       "1255    22\n",
       "657     17\n",
       "858     17\n",
       "        ..\n",
       "2012     1\n",
       "1019     1\n",
       "1701     1\n",
       "1951     1\n",
       "1403     1\n",
       "Name: Departure Time, Length: 631, dtype: int64"
      ]
     },
     "execution_count": 14,
     "metadata": {},
     "output_type": "execute_result"
    }
   ],
   "source": [
    "flight['Departure Time'].value_counts()"
   ]
  },
  {
   "cell_type": "markdown",
   "id": "45be1049",
   "metadata": {},
   "source": [
    "###### Dividing into blocks of 1 hour each (Remove the minutes in the file and just retain the hour.)\n",
    "    Time column is in 24-hour format with minutes.\n",
    "    Removing the minutes from the time"
   ]
  },
  {
   "cell_type": "code",
   "execution_count": 15,
   "id": "e1c40896",
   "metadata": {},
   "outputs": [],
   "source": [
    "departure_time = flight['Departure Time'].astype(str)"
   ]
  },
  {
   "cell_type": "code",
   "execution_count": 16,
   "id": "9e44d8d5",
   "metadata": {},
   "outputs": [],
   "source": [
    "def time(departure_time):\n",
    "    if (len(departure_time)==4):\n",
    "        departure_time = departure_time[0:2]\n",
    "    if (len(departure_time)==3):\n",
    "        departure_time = departure_time[0:1]\n",
    "    return departure_time"
   ]
  },
  {
   "cell_type": "code",
   "execution_count": 17,
   "id": "bbaeff50",
   "metadata": {},
   "outputs": [],
   "source": [
    "for i in range(2199):\n",
    "    departure_time[i] = time(departure_time[i])"
   ]
  },
  {
   "cell_type": "code",
   "execution_count": 18,
   "id": "8b855858",
   "metadata": {},
   "outputs": [],
   "source": [
    "departure_time =departure_time.astype(int)"
   ]
  },
  {
   "cell_type": "code",
   "execution_count": 19,
   "id": "e48d1975",
   "metadata": {},
   "outputs": [],
   "source": [
    "flight.insert(2,\"Departure_time\", departure_time)\n",
    "flight.drop(['Departure Time'], axis=1, inplace=True)"
   ]
  },
  {
   "cell_type": "code",
   "execution_count": 20,
   "id": "f1c08ec7",
   "metadata": {},
   "outputs": [
    {
     "data": {
      "text/plain": [
       "16    219\n",
       "14    197\n",
       "12    193\n",
       "8     186\n",
       "17    183\n",
       "15    169\n",
       "6     166\n",
       "18    136\n",
       "10    119\n",
       "13    116\n",
       "7      96\n",
       "21     88\n",
       "20     86\n",
       "19     81\n",
       "9      72\n",
       "11     52\n",
       "5      25\n",
       "22     11\n",
       "23      4\n",
       "Name: Departure_time, dtype: int64"
      ]
     },
     "execution_count": 20,
     "metadata": {},
     "output_type": "execute_result"
    }
   ],
   "source": [
    "flight['Departure_time'].value_counts()"
   ]
  },
  {
   "cell_type": "code",
   "execution_count": 21,
   "id": "03e9098e",
   "metadata": {},
   "outputs": [
    {
     "data": {
      "text/plain": [
       "DCA    1370\n",
       "IAD     684\n",
       "BWI     145\n",
       "Name: Origin, dtype: int64"
      ]
     },
     "execution_count": 21,
     "metadata": {},
     "output_type": "execute_result"
    }
   ],
   "source": [
    "flight['Origin'].value_counts()"
   ]
  },
  {
   "cell_type": "markdown",
   "id": "952d2cab",
   "metadata": {},
   "source": [
    "#### Flight Origin points:\n",
    "Flights in this dataset has three origin points\n",
    "\n",
    "    1. DCA\n",
    "    2. IAD\n",
    "    3. BWI"
   ]
  },
  {
   "cell_type": "code",
   "execution_count": 22,
   "id": "7bc7b77a",
   "metadata": {},
   "outputs": [
    {
     "data": {
      "text/plain": [
       "LGA    1148\n",
       "EWR     665\n",
       "JFK     386\n",
       "Name: Destination, dtype: int64"
      ]
     },
     "execution_count": 22,
     "metadata": {},
     "output_type": "execute_result"
    }
   ],
   "source": [
    "flight['Destination'].value_counts()"
   ]
  },
  {
   "cell_type": "markdown",
   "id": "50e40041",
   "metadata": {},
   "source": [
    "#### Flight Destination points:\n",
    "Flights in this dataset has three destination points\n",
    "\n",
    "    1. LGA\n",
    "    2. EWR\n",
    "    3. JFK"
   ]
  },
  {
   "cell_type": "code",
   "execution_count": 23,
   "id": "3c222f6c",
   "metadata": {},
   "outputs": [
    {
     "data": {
      "text/plain": [
       "DH    549\n",
       "RU    408\n",
       "US    404\n",
       "DL    388\n",
       "MQ    295\n",
       "CO     94\n",
       "UA     31\n",
       "OH     30\n",
       "Name: Carrier, dtype: int64"
      ]
     },
     "execution_count": 23,
     "metadata": {},
     "output_type": "execute_result"
    }
   ],
   "source": [
    "flight['Carrier'].value_counts()"
   ]
  },
  {
   "cell_type": "markdown",
   "id": "a45a830d",
   "metadata": {},
   "source": [
    "#### Flight Carrier:\n",
    "    1. DH\n",
    "    2. RU\n",
    "    3. US\n",
    "    4. DL\n",
    "    5. MQ\n",
    "    6. CO\n",
    "    7. UA\n",
    "    8. OH"
   ]
  },
  {
   "cell_type": "markdown",
   "id": "7b01f4a6",
   "metadata": {},
   "source": [
    "###### Now remove the unwanted features from the dataset and calibrate the dataset with features of interest"
   ]
  },
  {
   "cell_type": "code",
   "execution_count": 24,
   "id": "feb2461c",
   "metadata": {},
   "outputs": [],
   "source": [
    "flight_df = flight.drop([\"Distance\",\"Date\",\"Flight Number\",\"Day of the Month\" ], axis =1)"
   ]
  },
  {
   "cell_type": "code",
   "execution_count": 25,
   "id": "a598d07d",
   "metadata": {},
   "outputs": [
    {
     "data": {
      "text/html": [
       "<div>\n",
       "<style scoped>\n",
       "    .dataframe tbody tr th:only-of-type {\n",
       "        vertical-align: middle;\n",
       "    }\n",
       "\n",
       "    .dataframe tbody tr th {\n",
       "        vertical-align: top;\n",
       "    }\n",
       "\n",
       "    .dataframe thead th {\n",
       "        text-align: right;\n",
       "    }\n",
       "</style>\n",
       "<table border=\"1\" class=\"dataframe\">\n",
       "  <thead>\n",
       "    <tr style=\"text-align: right;\">\n",
       "      <th></th>\n",
       "      <th>Carrier</th>\n",
       "      <th>Departure_time</th>\n",
       "      <th>Destination</th>\n",
       "      <th>Origin</th>\n",
       "      <th>Day of the Week</th>\n",
       "      <th>Delayed</th>\n",
       "    </tr>\n",
       "  </thead>\n",
       "  <tbody>\n",
       "    <tr>\n",
       "      <th>0</th>\n",
       "      <td>OH</td>\n",
       "      <td>14</td>\n",
       "      <td>JFK</td>\n",
       "      <td>BWI</td>\n",
       "      <td>4</td>\n",
       "      <td>ontime</td>\n",
       "    </tr>\n",
       "    <tr>\n",
       "      <th>1</th>\n",
       "      <td>DH</td>\n",
       "      <td>16</td>\n",
       "      <td>JFK</td>\n",
       "      <td>DCA</td>\n",
       "      <td>4</td>\n",
       "      <td>ontime</td>\n",
       "    </tr>\n",
       "    <tr>\n",
       "      <th>2</th>\n",
       "      <td>DH</td>\n",
       "      <td>12</td>\n",
       "      <td>LGA</td>\n",
       "      <td>IAD</td>\n",
       "      <td>4</td>\n",
       "      <td>ontime</td>\n",
       "    </tr>\n",
       "    <tr>\n",
       "      <th>3</th>\n",
       "      <td>DH</td>\n",
       "      <td>17</td>\n",
       "      <td>LGA</td>\n",
       "      <td>IAD</td>\n",
       "      <td>4</td>\n",
       "      <td>ontime</td>\n",
       "    </tr>\n",
       "    <tr>\n",
       "      <th>4</th>\n",
       "      <td>DH</td>\n",
       "      <td>10</td>\n",
       "      <td>LGA</td>\n",
       "      <td>IAD</td>\n",
       "      <td>4</td>\n",
       "      <td>ontime</td>\n",
       "    </tr>\n",
       "  </tbody>\n",
       "</table>\n",
       "</div>"
      ],
      "text/plain": [
       "  Carrier  Departure_time Destination Origin  Day of the Week Delayed\n",
       "0      OH              14         JFK    BWI                4  ontime\n",
       "1      DH              16         JFK    DCA                4  ontime\n",
       "2      DH              12         LGA    IAD                4  ontime\n",
       "3      DH              17         LGA    IAD                4  ontime\n",
       "4      DH              10         LGA    IAD                4  ontime"
      ]
     },
     "execution_count": 25,
     "metadata": {},
     "output_type": "execute_result"
    }
   ],
   "source": [
    "flight_df.head()"
   ]
  },
  {
   "cell_type": "code",
   "execution_count": 26,
   "id": "c87f035e",
   "metadata": {},
   "outputs": [
    {
     "name": "stdout",
     "output_type": "stream",
     "text": [
      "<class 'pandas.core.frame.DataFrame'>\n",
      "RangeIndex: 2199 entries, 0 to 2198\n",
      "Data columns (total 6 columns):\n",
      " #   Column           Non-Null Count  Dtype \n",
      "---  ------           --------------  ----- \n",
      " 0   Carrier          2199 non-null   object\n",
      " 1   Departure_time   2199 non-null   int32 \n",
      " 2   Destination      2199 non-null   object\n",
      " 3   Origin           2199 non-null   object\n",
      " 4   Day of the Week  2199 non-null   int64 \n",
      " 5   Delayed          2199 non-null   object\n",
      "dtypes: int32(1), int64(1), object(4)\n",
      "memory usage: 94.6+ KB\n"
     ]
    }
   ],
   "source": [
    "flight_df.info()"
   ]
  },
  {
   "cell_type": "markdown",
   "id": "693e194d",
   "metadata": {},
   "source": [
    "##### Checking for the duplicates in the dataframe"
   ]
  },
  {
   "cell_type": "code",
   "execution_count": 27,
   "id": "97c6acd4",
   "metadata": {},
   "outputs": [
    {
     "data": {
      "text/plain": [
       "1247"
      ]
     },
     "execution_count": 27,
     "metadata": {},
     "output_type": "execute_result"
    }
   ],
   "source": [
    "sum(flight_df.duplicated()) "
   ]
  },
  {
   "cell_type": "markdown",
   "id": "1c6a9c93",
   "metadata": {},
   "source": [
    "The dataframe has 1247 duplicated examples.\n",
    "\n",
    "Removing the duplicates from the Dataframe"
   ]
  },
  {
   "cell_type": "code",
   "execution_count": 28,
   "id": "479134b3",
   "metadata": {},
   "outputs": [],
   "source": [
    "flight_df = flight_df.drop_duplicates()"
   ]
  },
  {
   "cell_type": "code",
   "execution_count": 29,
   "id": "e8652dda",
   "metadata": {},
   "outputs": [
    {
     "data": {
      "text/plain": [
       "True"
      ]
     },
     "execution_count": 29,
     "metadata": {},
     "output_type": "execute_result"
    }
   ],
   "source": [
    "sum(flight_df.duplicated()) == 0"
   ]
  },
  {
   "cell_type": "code",
   "execution_count": 30,
   "id": "fc30a3cd",
   "metadata": {},
   "outputs": [
    {
     "data": {
      "text/plain": [
       "(952, 6)"
      ]
     },
     "execution_count": 30,
     "metadata": {},
     "output_type": "execute_result"
    }
   ],
   "source": [
    "flight_df.shape"
   ]
  },
  {
   "cell_type": "markdown",
   "id": "c2fcfdcc",
   "metadata": {},
   "source": [
    "After removing the duplicates from the flight_df, the dataframe has only 952 examples and 6 features."
   ]
  },
  {
   "cell_type": "markdown",
   "id": "e3d2b5dd",
   "metadata": {},
   "source": [
    "### Step 3: Visualizing the data"
   ]
  },
  {
   "cell_type": "markdown",
   "id": "eab9587b",
   "metadata": {},
   "source": [
    "Checking the dataset for the Delayed class categories and plotting it in the pie chart"
   ]
  },
  {
   "cell_type": "code",
   "execution_count": 31,
   "id": "405569a6",
   "metadata": {},
   "outputs": [
    {
     "data": {
      "text/plain": [
       "ontime     600\n",
       "delayed    352\n",
       "Name: Delayed, dtype: int64"
      ]
     },
     "execution_count": 31,
     "metadata": {},
     "output_type": "execute_result"
    }
   ],
   "source": [
    "flight_df['Delayed'].value_counts()"
   ]
  },
  {
   "cell_type": "code",
   "execution_count": 32,
   "id": "9f6253a2",
   "metadata": {},
   "outputs": [
    {
     "data": {
      "text/plain": [
       "ontime     0.630252\n",
       "delayed    0.369748\n",
       "Name: Delayed, dtype: float64"
      ]
     },
     "execution_count": 32,
     "metadata": {},
     "output_type": "execute_result"
    }
   ],
   "source": [
    "flight_df['Delayed'].value_counts(normalize = True)"
   ]
  },
  {
   "cell_type": "markdown",
   "id": "2ce3100e",
   "metadata": {},
   "source": [
    "###### The ratio of ontime class to delayed class is 0.6:0.3"
   ]
  },
  {
   "cell_type": "code",
   "execution_count": 33,
   "id": "0f80c42b",
   "metadata": {},
   "outputs": [
    {
     "data": {
      "text/plain": [
       "<AxesSubplot:ylabel='None'>"
      ]
     },
     "execution_count": 33,
     "metadata": {},
     "output_type": "execute_result"
    },
    {
     "data": {
      "image/png": "[encoded data removed]",
      "text/plain": [
       "<Figure size 432x288 with 1 Axes>"
      ]
     },
     "metadata": {},
     "output_type": "display_data"
    }
   ],
   "source": [
    "flight_df.groupby('Delayed').size().plot(kind='pie')"
   ]
  },
  {
   "cell_type": "code",
   "execution_count": 34,
   "id": "dcadf76e",
   "metadata": {},
   "outputs": [
    {
     "data": {
      "text/plain": [
       "<AxesSubplot:>"
      ]
     },
     "execution_count": 34,
     "metadata": {},
     "output_type": "execute_result"
    },
    {
     "data": {
      "image/png": "[encoded data removed]",
      "text/plain": [
       "<Figure size 432x288 with 1 Axes>"
      ]
     },
     "metadata": {
      "needs_background": "light"
     },
     "output_type": "display_data"
    }
   ],
   "source": [
    "flight_df['Delayed'].value_counts().plot.bar(color=['blue', 'yellow'])"
   ]
  },
  {
   "cell_type": "markdown",
   "id": "8cbc8900",
   "metadata": {},
   "source": [
    "#### Delay based on the Day of the week"
   ]
  },
  {
   "cell_type": "code",
   "execution_count": 35,
   "id": "4eaca97e",
   "metadata": {},
   "outputs": [],
   "source": [
    "w =pd.DataFrame(flight_df.groupby(['Day of the Week','Delayed']).size())\n",
    "w.rename(columns={0:'Count'}, inplace=True)\n",
    "w =w.reset_index()\n",
    "w=w.set_index(['Delayed','Day of the Week']).unstack(['Delayed'])"
   ]
  },
  {
   "cell_type": "code",
   "execution_count": 36,
   "id": "efe3ada3",
   "metadata": {},
   "outputs": [
    {
     "data": {
      "text/plain": [
       "<AxesSubplot:xlabel='Day of the Week'>"
      ]
     },
     "execution_count": 36,
     "metadata": {},
     "output_type": "execute_result"
    },
    {
     "data": {
      "image/png": "[encoded data removed]",
      "text/plain": [
       "<Figure size 1080x432 with 1 Axes>"
      ]
     },
     "metadata": {
      "needs_background": "light"
     },
     "output_type": "display_data"
    }
   ],
   "source": [
    "w.plot(kind='bar', figsize=(15,6))"
   ]
  },
  {
   "cell_type": "markdown",
   "id": "b38d8907",
   "metadata": {},
   "source": [
    " From the plot it can be seen that the flight is delayed realatively higher in the 1st, 5th, and 7th day of the week"
   ]
  },
  {
   "cell_type": "markdown",
   "id": "56c34549",
   "metadata": {},
   "source": [
    "#### Delay ratio based on the origin"
   ]
  },
  {
   "cell_type": "code",
   "execution_count": 37,
   "id": "b32e2cc0",
   "metadata": {},
   "outputs": [
    {
     "data": {
      "text/plain": [
       "<AxesSubplot:xlabel='Delayed', ylabel='Count'>"
      ]
     },
     "execution_count": 37,
     "metadata": {},
     "output_type": "execute_result"
    },
    {
     "data": {
      "image/png": "[encoded data removed]",
      "text/plain": [
       "<Figure size 432x288 with 1 Axes>"
      ]
     },
     "metadata": {
      "needs_background": "light"
     },
     "output_type": "display_data"
    }
   ],
   "source": [
    "plt.figure(figsize=(6,4))\n",
    "sns.histplot(flight_df,x='Delayed',hue='Origin', multiple=\"dodge\", palette=(\"magma\"), shrink=.5)"
   ]
  },
  {
   "cell_type": "markdown",
   "id": "0f1db333",
   "metadata": {},
   "source": [
    "The more flights are from  the origin BWI and the most number of delayed flights is also from the origin BWI."
   ]
  },
  {
   "cell_type": "markdown",
   "id": "c9d0dab6",
   "metadata": {},
   "source": [
    "#### Delay ratio based on the Destination"
   ]
  },
  {
   "cell_type": "code",
   "execution_count": 38,
   "id": "0fdde7d5",
   "metadata": {},
   "outputs": [
    {
     "data": {
      "text/plain": [
       "<AxesSubplot:xlabel='Delayed', ylabel='Count'>"
      ]
     },
     "execution_count": 38,
     "metadata": {},
     "output_type": "execute_result"
    },
    {
     "data": {
      "image/png": "[encoded data removed]",
      "text/plain": [
       "<Figure size 432x288 with 1 Axes>"
      ]
     },
     "metadata": {
      "needs_background": "light"
     },
     "output_type": "display_data"
    }
   ],
   "source": [
    "plt.figure(figsize=(6,4))\n",
    "sns.histplot(flight_df,x='Delayed',hue='Destination', multiple=\"dodge\", palette=(\"viridis\"), shrink=.5)"
   ]
  },
  {
   "cell_type": "markdown",
   "id": "68efc4c4",
   "metadata": {},
   "source": [
    "The flights to the destination LGA, EWR are highly delayed."
   ]
  },
  {
   "cell_type": "markdown",
   "id": "9a879f6a",
   "metadata": {},
   "source": [
    "#### Delay based on Carrier"
   ]
  },
  {
   "cell_type": "code",
   "execution_count": 39,
   "id": "34eaa2a8",
   "metadata": {},
   "outputs": [
    {
     "data": {
      "image/png": "[encoded data removed]",
      "text/plain": [
       "<Figure size 504x288 with 1 Axes>"
      ]
     },
     "metadata": {
      "needs_background": "light"
     },
     "output_type": "display_data"
    }
   ],
   "source": [
    "plt.figure(figsize=(7,4))\n",
    "sns.histplot(flight_df,x='Delayed',hue='Carrier', multiple=\"dodge\",  palette=(\"icefire\"), shrink=0.5);"
   ]
  },
  {
   "cell_type": "markdown",
   "id": "065534f3",
   "metadata": {},
   "source": [
    "From the plots above, it can be observed that the higher the ratio of flight ontime and hence also the higher the number of flilghts delayed"
   ]
  },
  {
   "cell_type": "markdown",
   "id": "49554cd1",
   "metadata": {},
   "source": [
    "### Step 4: Feature Engineering"
   ]
  },
  {
   "cell_type": "markdown",
   "id": "3c2098d6",
   "metadata": {},
   "source": [
    "#### Feature engineering:\n",
    "    Feature Engineering involves converting the categorical features into numerical values. This can also be called as encoding."
   ]
  },
  {
   "cell_type": "markdown",
   "id": "77057d8f",
   "metadata": {},
   "source": [
    "Here, we simply replace the Delayed column variable into 0 and 1 with python code.\n",
    "        \n",
    "        0 => ontime\n",
    "        1 => delayed"
   ]
  },
  {
   "cell_type": "code",
   "execution_count": 40,
   "id": "0e9b81de",
   "metadata": {},
   "outputs": [],
   "source": [
    "flight_df['Delayed'] = flight_df['Delayed'].replace('delayed',1).replace('ontime',0).astype(int)"
   ]
  },
  {
   "cell_type": "markdown",
   "id": "f43f175f",
   "metadata": {},
   "source": [
    "\n",
    "Then the categorical columns are encoded with the pandas get_dummies method which is equivalent to OneHotEncoder of scikit learn module.\n"
   ]
  },
  {
   "cell_type": "code",
   "execution_count": 41,
   "id": "7b9213ee",
   "metadata": {},
   "outputs": [],
   "source": [
    "def dummies(data, col):\n",
    "    temp = pd.get_dummies(data[col])\n",
    "    data = pd.concat([data, temp], axis =1)\n",
    "    data.drop([col], axis =1, inplace=True)\n",
    "    return data"
   ]
  },
  {
   "cell_type": "code",
   "execution_count": 42,
   "id": "b04225d2",
   "metadata": {},
   "outputs": [],
   "source": [
    "flight_df = dummies(flight_df, 'Origin')\n",
    "flight_df = dummies(flight_df, 'Carrier')\n",
    "flight_df = dummies(flight_df, 'Destination')\n",
    "flight_df = dummies(flight_df, 'Day of the Week')"
   ]
  },
  {
   "cell_type": "markdown",
   "id": "fb84b306",
   "metadata": {},
   "source": [
    "##### Now look at the correlation between the features of the flight_df"
   ]
  },
  {
   "cell_type": "code",
   "execution_count": 43,
   "id": "3a84ea3f",
   "metadata": {},
   "outputs": [
    {
     "data": {
      "text/html": [
       "<div>\n",
       "<style scoped>\n",
       "    .dataframe tbody tr th:only-of-type {\n",
       "        vertical-align: middle;\n",
       "    }\n",
       "\n",
       "    .dataframe tbody tr th {\n",
       "        vertical-align: top;\n",
       "    }\n",
       "\n",
       "    .dataframe thead th {\n",
       "        text-align: right;\n",
       "    }\n",
       "</style>\n",
       "<table border=\"1\" class=\"dataframe\">\n",
       "  <thead>\n",
       "    <tr style=\"text-align: right;\">\n",
       "      <th></th>\n",
       "      <th>Departure_time</th>\n",
       "      <th>Delayed</th>\n",
       "      <th>BWI</th>\n",
       "      <th>DCA</th>\n",
       "      <th>IAD</th>\n",
       "      <th>CO</th>\n",
       "      <th>DH</th>\n",
       "      <th>DL</th>\n",
       "      <th>MQ</th>\n",
       "      <th>OH</th>\n",
       "      <th>...</th>\n",
       "      <th>EWR</th>\n",
       "      <th>JFK</th>\n",
       "      <th>LGA</th>\n",
       "      <th>1</th>\n",
       "      <th>2</th>\n",
       "      <th>3</th>\n",
       "      <th>4</th>\n",
       "      <th>5</th>\n",
       "      <th>6</th>\n",
       "      <th>7</th>\n",
       "    </tr>\n",
       "  </thead>\n",
       "  <tbody>\n",
       "    <tr>\n",
       "      <th>Departure_time</th>\n",
       "      <td>1.000000</td>\n",
       "      <td>0.190571</td>\n",
       "      <td>-0.042141</td>\n",
       "      <td>-0.031741</td>\n",
       "      <td>0.057139</td>\n",
       "      <td>0.056548</td>\n",
       "      <td>0.119727</td>\n",
       "      <td>-0.021972</td>\n",
       "      <td>-0.050918</td>\n",
       "      <td>0.026667</td>\n",
       "      <td>...</td>\n",
       "      <td>0.022438</td>\n",
       "      <td>0.102485</td>\n",
       "      <td>-0.099337</td>\n",
       "      <td>-0.010871</td>\n",
       "      <td>0.005904</td>\n",
       "      <td>0.013443</td>\n",
       "      <td>-0.011420</td>\n",
       "      <td>-0.035882</td>\n",
       "      <td>-0.071616</td>\n",
       "      <td>0.102559</td>\n",
       "    </tr>\n",
       "    <tr>\n",
       "      <th>Delayed</th>\n",
       "      <td>0.190571</td>\n",
       "      <td>1.000000</td>\n",
       "      <td>0.050635</td>\n",
       "      <td>-0.096937</td>\n",
       "      <td>0.072231</td>\n",
       "      <td>0.040504</td>\n",
       "      <td>0.076957</td>\n",
       "      <td>-0.094701</td>\n",
       "      <td>0.059440</td>\n",
       "      <td>-0.027018</td>\n",
       "      <td>...</td>\n",
       "      <td>0.078321</td>\n",
       "      <td>0.030049</td>\n",
       "      <td>-0.097312</td>\n",
       "      <td>0.060780</td>\n",
       "      <td>-0.000156</td>\n",
       "      <td>-0.029274</td>\n",
       "      <td>-0.015296</td>\n",
       "      <td>0.021130</td>\n",
       "      <td>-0.106185</td>\n",
       "      <td>0.047773</td>\n",
       "    </tr>\n",
       "    <tr>\n",
       "      <th>BWI</th>\n",
       "      <td>-0.042141</td>\n",
       "      <td>0.050635</td>\n",
       "      <td>1.000000</td>\n",
       "      <td>-0.347264</td>\n",
       "      <td>-0.208088</td>\n",
       "      <td>-0.065894</td>\n",
       "      <td>-0.174515</td>\n",
       "      <td>-0.122443</td>\n",
       "      <td>-0.128466</td>\n",
       "      <td>0.432658</td>\n",
       "      <td>...</td>\n",
       "      <td>0.281130</td>\n",
       "      <td>0.018900</td>\n",
       "      <td>-0.281579</td>\n",
       "      <td>-0.007113</td>\n",
       "      <td>-0.020731</td>\n",
       "      <td>-0.011333</td>\n",
       "      <td>-0.034882</td>\n",
       "      <td>0.023361</td>\n",
       "      <td>0.012123</td>\n",
       "      <td>0.041649</td>\n",
       "    </tr>\n",
       "    <tr>\n",
       "      <th>DCA</th>\n",
       "      <td>-0.031741</td>\n",
       "      <td>-0.096937</td>\n",
       "      <td>-0.347264</td>\n",
       "      <td>1.000000</td>\n",
       "      <td>-0.844978</td>\n",
       "      <td>0.189752</td>\n",
       "      <td>-0.650511</td>\n",
       "      <td>0.352592</td>\n",
       "      <td>0.369939</td>\n",
       "      <td>-0.150247</td>\n",
       "      <td>...</td>\n",
       "      <td>-0.320201</td>\n",
       "      <td>-0.144113</td>\n",
       "      <td>0.414026</td>\n",
       "      <td>0.004558</td>\n",
       "      <td>0.001565</td>\n",
       "      <td>0.024610</td>\n",
       "      <td>0.047385</td>\n",
       "      <td>-0.004462</td>\n",
       "      <td>-0.055799</td>\n",
       "      <td>-0.028753</td>\n",
       "    </tr>\n",
       "    <tr>\n",
       "      <th>IAD</th>\n",
       "      <td>0.057139</td>\n",
       "      <td>0.072231</td>\n",
       "      <td>-0.208088</td>\n",
       "      <td>-0.844978</td>\n",
       "      <td>1.000000</td>\n",
       "      <td>-0.160336</td>\n",
       "      <td>0.778020</td>\n",
       "      <td>-0.297933</td>\n",
       "      <td>-0.312590</td>\n",
       "      <td>-0.090031</td>\n",
       "      <td>...</td>\n",
       "      <td>0.173651</td>\n",
       "      <td>0.139535</td>\n",
       "      <td>-0.271255</td>\n",
       "      <td>-0.000698</td>\n",
       "      <td>0.010191</td>\n",
       "      <td>-0.019205</td>\n",
       "      <td>-0.029531</td>\n",
       "      <td>-0.008668</td>\n",
       "      <td>0.051286</td>\n",
       "      <td>0.006238</td>\n",
       "    </tr>\n",
       "    <tr>\n",
       "      <th>CO</th>\n",
       "      <td>0.056548</td>\n",
       "      <td>0.040504</td>\n",
       "      <td>-0.065894</td>\n",
       "      <td>0.189752</td>\n",
       "      <td>-0.160336</td>\n",
       "      <td>1.000000</td>\n",
       "      <td>-0.134467</td>\n",
       "      <td>-0.094344</td>\n",
       "      <td>-0.098986</td>\n",
       "      <td>-0.028510</td>\n",
       "      <td>...</td>\n",
       "      <td>0.311516</td>\n",
       "      <td>-0.103929</td>\n",
       "      <td>-0.216962</td>\n",
       "      <td>0.002883</td>\n",
       "      <td>0.018532</td>\n",
       "      <td>0.017085</td>\n",
       "      <td>0.001907</td>\n",
       "      <td>0.010112</td>\n",
       "      <td>-0.056066</td>\n",
       "      <td>-0.004690</td>\n",
       "    </tr>\n",
       "    <tr>\n",
       "      <th>DH</th>\n",
       "      <td>0.119727</td>\n",
       "      <td>0.076957</td>\n",
       "      <td>-0.174515</td>\n",
       "      <td>-0.650511</td>\n",
       "      <td>0.778020</td>\n",
       "      <td>-0.134467</td>\n",
       "      <td>1.000000</td>\n",
       "      <td>-0.249864</td>\n",
       "      <td>-0.262156</td>\n",
       "      <td>-0.075505</td>\n",
       "      <td>...</td>\n",
       "      <td>-0.049623</td>\n",
       "      <td>0.302173</td>\n",
       "      <td>-0.182850</td>\n",
       "      <td>-0.001779</td>\n",
       "      <td>0.025497</td>\n",
       "      <td>-0.018634</td>\n",
       "      <td>-0.042146</td>\n",
       "      <td>-0.035320</td>\n",
       "      <td>0.068252</td>\n",
       "      <td>0.018008</td>\n",
       "    </tr>\n",
       "    <tr>\n",
       "      <th>DL</th>\n",
       "      <td>-0.021972</td>\n",
       "      <td>-0.094701</td>\n",
       "      <td>-0.122443</td>\n",
       "      <td>0.352592</td>\n",
       "      <td>-0.297933</td>\n",
       "      <td>-0.094344</td>\n",
       "      <td>-0.249864</td>\n",
       "      <td>1.000000</td>\n",
       "      <td>-0.183933</td>\n",
       "      <td>-0.052976</td>\n",
       "      <td>...</td>\n",
       "      <td>-0.302856</td>\n",
       "      <td>-0.053569</td>\n",
       "      <td>0.328618</td>\n",
       "      <td>-0.015847</td>\n",
       "      <td>0.011859</td>\n",
       "      <td>0.009305</td>\n",
       "      <td>0.039889</td>\n",
       "      <td>-0.011120</td>\n",
       "      <td>-0.014355</td>\n",
       "      <td>-0.021740</td>\n",
       "    </tr>\n",
       "    <tr>\n",
       "      <th>MQ</th>\n",
       "      <td>-0.050918</td>\n",
       "      <td>0.059440</td>\n",
       "      <td>-0.128466</td>\n",
       "      <td>0.369939</td>\n",
       "      <td>-0.312590</td>\n",
       "      <td>-0.098986</td>\n",
       "      <td>-0.262156</td>\n",
       "      <td>-0.183933</td>\n",
       "      <td>1.000000</td>\n",
       "      <td>-0.055582</td>\n",
       "      <td>...</td>\n",
       "      <td>-0.317755</td>\n",
       "      <td>0.112395</td>\n",
       "      <td>0.216448</td>\n",
       "      <td>0.007274</td>\n",
       "      <td>0.005481</td>\n",
       "      <td>0.002843</td>\n",
       "      <td>-0.007772</td>\n",
       "      <td>0.013587</td>\n",
       "      <td>-0.034698</td>\n",
       "      <td>0.006698</td>\n",
       "    </tr>\n",
       "    <tr>\n",
       "      <th>OH</th>\n",
       "      <td>0.026667</td>\n",
       "      <td>-0.027018</td>\n",
       "      <td>0.432658</td>\n",
       "      <td>-0.150247</td>\n",
       "      <td>-0.090031</td>\n",
       "      <td>-0.028510</td>\n",
       "      <td>-0.075505</td>\n",
       "      <td>-0.052976</td>\n",
       "      <td>-0.055582</td>\n",
       "      <td>1.000000</td>\n",
       "      <td>...</td>\n",
       "      <td>-0.091519</td>\n",
       "      <td>0.274317</td>\n",
       "      <td>-0.121827</td>\n",
       "      <td>0.010424</td>\n",
       "      <td>-0.004178</td>\n",
       "      <td>-0.004903</td>\n",
       "      <td>-0.005621</td>\n",
       "      <td>-0.008414</td>\n",
       "      <td>0.016777</td>\n",
       "      <td>-0.001569</td>\n",
       "    </tr>\n",
       "    <tr>\n",
       "      <th>RU</th>\n",
       "      <td>-0.030376</td>\n",
       "      <td>0.038123</td>\n",
       "      <td>0.415946</td>\n",
       "      <td>-0.238279</td>\n",
       "      <td>0.011319</td>\n",
       "      <td>-0.118041</td>\n",
       "      <td>-0.312621</td>\n",
       "      <td>-0.219340</td>\n",
       "      <td>-0.230131</td>\n",
       "      <td>-0.066282</td>\n",
       "      <td>...</td>\n",
       "      <td>0.724240</td>\n",
       "      <td>-0.241624</td>\n",
       "      <td>-0.504413</td>\n",
       "      <td>-0.004561</td>\n",
       "      <td>-0.041492</td>\n",
       "      <td>-0.008276</td>\n",
       "      <td>-0.004144</td>\n",
       "      <td>0.039977</td>\n",
       "      <td>0.005413</td>\n",
       "      <td>0.013286</td>\n",
       "    </tr>\n",
       "    <tr>\n",
       "      <th>UA</th>\n",
       "      <td>-0.129043</td>\n",
       "      <td>-0.001369</td>\n",
       "      <td>-0.031618</td>\n",
       "      <td>-0.128390</td>\n",
       "      <td>0.151945</td>\n",
       "      <td>-0.024362</td>\n",
       "      <td>-0.064521</td>\n",
       "      <td>-0.045269</td>\n",
       "      <td>-0.047496</td>\n",
       "      <td>-0.013680</td>\n",
       "      <td>...</td>\n",
       "      <td>-0.078205</td>\n",
       "      <td>-0.049868</td>\n",
       "      <td>0.112288</td>\n",
       "      <td>0.003663</td>\n",
       "      <td>0.011320</td>\n",
       "      <td>-0.017141</td>\n",
       "      <td>0.009912</td>\n",
       "      <td>0.007198</td>\n",
       "      <td>-0.001341</td>\n",
       "      <td>-0.014656</td>\n",
       "    </tr>\n",
       "    <tr>\n",
       "      <th>US</th>\n",
       "      <td>-0.044641</td>\n",
       "      <td>-0.125229</td>\n",
       "      <td>-0.115778</td>\n",
       "      <td>0.333400</td>\n",
       "      <td>-0.281716</td>\n",
       "      <td>-0.089209</td>\n",
       "      <td>-0.236263</td>\n",
       "      <td>-0.165766</td>\n",
       "      <td>-0.173922</td>\n",
       "      <td>-0.050092</td>\n",
       "      <td>...</td>\n",
       "      <td>-0.286371</td>\n",
       "      <td>-0.182607</td>\n",
       "      <td>0.411174</td>\n",
       "      <td>0.009692</td>\n",
       "      <td>-0.014816</td>\n",
       "      <td>0.017586</td>\n",
       "      <td>0.023764</td>\n",
       "      <td>-0.011167</td>\n",
       "      <td>-0.012539</td>\n",
       "      <td>-0.015600</td>\n",
       "    </tr>\n",
       "    <tr>\n",
       "      <th>EWR</th>\n",
       "      <td>0.022438</td>\n",
       "      <td>0.078321</td>\n",
       "      <td>0.281130</td>\n",
       "      <td>-0.320201</td>\n",
       "      <td>0.173651</td>\n",
       "      <td>0.311516</td>\n",
       "      <td>-0.049623</td>\n",
       "      <td>-0.302856</td>\n",
       "      <td>-0.317755</td>\n",
       "      <td>-0.091519</td>\n",
       "      <td>...</td>\n",
       "      <td>1.000000</td>\n",
       "      <td>-0.333624</td>\n",
       "      <td>-0.696471</td>\n",
       "      <td>-0.007680</td>\n",
       "      <td>-0.021370</td>\n",
       "      <td>-0.006797</td>\n",
       "      <td>-0.017232</td>\n",
       "      <td>0.039324</td>\n",
       "      <td>0.000651</td>\n",
       "      <td>0.012863</td>\n",
       "    </tr>\n",
       "    <tr>\n",
       "      <th>JFK</th>\n",
       "      <td>0.102485</td>\n",
       "      <td>0.030049</td>\n",
       "      <td>0.018900</td>\n",
       "      <td>-0.144113</td>\n",
       "      <td>0.139535</td>\n",
       "      <td>-0.103929</td>\n",
       "      <td>0.302173</td>\n",
       "      <td>-0.053569</td>\n",
       "      <td>0.112395</td>\n",
       "      <td>0.274317</td>\n",
       "      <td>...</td>\n",
       "      <td>-0.333624</td>\n",
       "      <td>1.000000</td>\n",
       "      <td>-0.444112</td>\n",
       "      <td>-0.009156</td>\n",
       "      <td>0.006213</td>\n",
       "      <td>-0.035551</td>\n",
       "      <td>-0.045816</td>\n",
       "      <td>-0.040277</td>\n",
       "      <td>0.096402</td>\n",
       "      <td>0.048265</td>\n",
       "    </tr>\n",
       "    <tr>\n",
       "      <th>LGA</th>\n",
       "      <td>-0.099337</td>\n",
       "      <td>-0.097312</td>\n",
       "      <td>-0.281579</td>\n",
       "      <td>0.414026</td>\n",
       "      <td>-0.271255</td>\n",
       "      <td>-0.216962</td>\n",
       "      <td>-0.182850</td>\n",
       "      <td>0.328618</td>\n",
       "      <td>0.216448</td>\n",
       "      <td>-0.121827</td>\n",
       "      <td>...</td>\n",
       "      <td>-0.696471</td>\n",
       "      <td>-0.444112</td>\n",
       "      <td>1.000000</td>\n",
       "      <td>0.014268</td>\n",
       "      <td>0.015581</td>\n",
       "      <td>0.033521</td>\n",
       "      <td>0.051253</td>\n",
       "      <td>-0.006716</td>\n",
       "      <td>-0.074000</td>\n",
       "      <td>-0.048964</td>\n",
       "    </tr>\n",
       "    <tr>\n",
       "      <th>1</th>\n",
       "      <td>-0.010871</td>\n",
       "      <td>0.060780</td>\n",
       "      <td>-0.007113</td>\n",
       "      <td>0.004558</td>\n",
       "      <td>-0.000698</td>\n",
       "      <td>0.002883</td>\n",
       "      <td>-0.001779</td>\n",
       "      <td>-0.015847</td>\n",
       "      <td>0.007274</td>\n",
       "      <td>0.010424</td>\n",
       "      <td>...</td>\n",
       "      <td>-0.007680</td>\n",
       "      <td>-0.009156</td>\n",
       "      <td>0.014268</td>\n",
       "      <td>1.000000</td>\n",
       "      <td>-0.185760</td>\n",
       "      <td>-0.187331</td>\n",
       "      <td>-0.188898</td>\n",
       "      <td>-0.195112</td>\n",
       "      <td>-0.145778</td>\n",
       "      <td>-0.180214</td>\n",
       "    </tr>\n",
       "    <tr>\n",
       "      <th>2</th>\n",
       "      <td>0.005904</td>\n",
       "      <td>-0.000156</td>\n",
       "      <td>-0.020731</td>\n",
       "      <td>0.001565</td>\n",
       "      <td>0.010191</td>\n",
       "      <td>0.018532</td>\n",
       "      <td>0.025497</td>\n",
       "      <td>0.011859</td>\n",
       "      <td>0.005481</td>\n",
       "      <td>-0.004178</td>\n",
       "      <td>...</td>\n",
       "      <td>-0.021370</td>\n",
       "      <td>0.006213</td>\n",
       "      <td>0.015581</td>\n",
       "      <td>-0.185760</td>\n",
       "      <td>1.000000</td>\n",
       "      <td>-0.170967</td>\n",
       "      <td>-0.172397</td>\n",
       "      <td>-0.178068</td>\n",
       "      <td>-0.133044</td>\n",
       "      <td>-0.164472</td>\n",
       "    </tr>\n",
       "    <tr>\n",
       "      <th>3</th>\n",
       "      <td>0.013443</td>\n",
       "      <td>-0.029274</td>\n",
       "      <td>-0.011333</td>\n",
       "      <td>0.024610</td>\n",
       "      <td>-0.019205</td>\n",
       "      <td>0.017085</td>\n",
       "      <td>-0.018634</td>\n",
       "      <td>0.009305</td>\n",
       "      <td>0.002843</td>\n",
       "      <td>-0.004903</td>\n",
       "      <td>...</td>\n",
       "      <td>-0.006797</td>\n",
       "      <td>-0.035551</td>\n",
       "      <td>0.033521</td>\n",
       "      <td>-0.187331</td>\n",
       "      <td>-0.170967</td>\n",
       "      <td>1.000000</td>\n",
       "      <td>-0.173855</td>\n",
       "      <td>-0.179574</td>\n",
       "      <td>-0.134169</td>\n",
       "      <td>-0.165863</td>\n",
       "    </tr>\n",
       "    <tr>\n",
       "      <th>4</th>\n",
       "      <td>-0.011420</td>\n",
       "      <td>-0.015296</td>\n",
       "      <td>-0.034882</td>\n",
       "      <td>0.047385</td>\n",
       "      <td>-0.029531</td>\n",
       "      <td>0.001907</td>\n",
       "      <td>-0.042146</td>\n",
       "      <td>0.039889</td>\n",
       "      <td>-0.007772</td>\n",
       "      <td>-0.005621</td>\n",
       "      <td>...</td>\n",
       "      <td>-0.017232</td>\n",
       "      <td>-0.045816</td>\n",
       "      <td>0.051253</td>\n",
       "      <td>-0.188898</td>\n",
       "      <td>-0.172397</td>\n",
       "      <td>-0.173855</td>\n",
       "      <td>1.000000</td>\n",
       "      <td>-0.181076</td>\n",
       "      <td>-0.135291</td>\n",
       "      <td>-0.167250</td>\n",
       "    </tr>\n",
       "    <tr>\n",
       "      <th>5</th>\n",
       "      <td>-0.035882</td>\n",
       "      <td>0.021130</td>\n",
       "      <td>0.023361</td>\n",
       "      <td>-0.004462</td>\n",
       "      <td>-0.008668</td>\n",
       "      <td>0.010112</td>\n",
       "      <td>-0.035320</td>\n",
       "      <td>-0.011120</td>\n",
       "      <td>0.013587</td>\n",
       "      <td>-0.008414</td>\n",
       "      <td>...</td>\n",
       "      <td>0.039324</td>\n",
       "      <td>-0.040277</td>\n",
       "      <td>-0.006716</td>\n",
       "      <td>-0.195112</td>\n",
       "      <td>-0.178068</td>\n",
       "      <td>-0.179574</td>\n",
       "      <td>-0.181076</td>\n",
       "      <td>1.000000</td>\n",
       "      <td>-0.139742</td>\n",
       "      <td>-0.172752</td>\n",
       "    </tr>\n",
       "    <tr>\n",
       "      <th>6</th>\n",
       "      <td>-0.071616</td>\n",
       "      <td>-0.106185</td>\n",
       "      <td>0.012123</td>\n",
       "      <td>-0.055799</td>\n",
       "      <td>0.051286</td>\n",
       "      <td>-0.056066</td>\n",
       "      <td>0.068252</td>\n",
       "      <td>-0.014355</td>\n",
       "      <td>-0.034698</td>\n",
       "      <td>0.016777</td>\n",
       "      <td>...</td>\n",
       "      <td>0.000651</td>\n",
       "      <td>0.096402</td>\n",
       "      <td>-0.074000</td>\n",
       "      <td>-0.145778</td>\n",
       "      <td>-0.133044</td>\n",
       "      <td>-0.134169</td>\n",
       "      <td>-0.135291</td>\n",
       "      <td>-0.139742</td>\n",
       "      <td>1.000000</td>\n",
       "      <td>-0.129072</td>\n",
       "    </tr>\n",
       "    <tr>\n",
       "      <th>7</th>\n",
       "      <td>0.102559</td>\n",
       "      <td>0.047773</td>\n",
       "      <td>0.041649</td>\n",
       "      <td>-0.028753</td>\n",
       "      <td>0.006238</td>\n",
       "      <td>-0.004690</td>\n",
       "      <td>0.018008</td>\n",
       "      <td>-0.021740</td>\n",
       "      <td>0.006698</td>\n",
       "      <td>-0.001569</td>\n",
       "      <td>...</td>\n",
       "      <td>0.012863</td>\n",
       "      <td>0.048265</td>\n",
       "      <td>-0.048964</td>\n",
       "      <td>-0.180214</td>\n",
       "      <td>-0.164472</td>\n",
       "      <td>-0.165863</td>\n",
       "      <td>-0.167250</td>\n",
       "      <td>-0.172752</td>\n",
       "      <td>-0.129072</td>\n",
       "      <td>1.000000</td>\n",
       "    </tr>\n",
       "  </tbody>\n",
       "</table>\n",
       "<p>23 rows × 23 columns</p>\n",
       "</div>"
      ],
      "text/plain": [
       "                Departure_time   Delayed       BWI       DCA       IAD  \\\n",
       "Departure_time        1.000000  0.190571 -0.042141 -0.031741  0.057139   \n",
       "Delayed               0.190571  1.000000  0.050635 -0.096937  0.072231   \n",
       "BWI                  -0.042141  0.050635  1.000000 -0.347264 -0.208088   \n",
       "DCA                  -0.031741 -0.096937 -0.347264  1.000000 -0.844978   \n",
       "IAD                   0.057139  0.072231 -0.208088 -0.844978  1.000000   \n",
       "CO                    0.056548  0.040504 -0.065894  0.189752 -0.160336   \n",
       "DH                    0.119727  0.076957 -0.174515 -0.650511  0.778020   \n",
       "DL                   -0.021972 -0.094701 -0.122443  0.352592 -0.297933   \n",
       "MQ                   -0.050918  0.059440 -0.128466  0.369939 -0.312590   \n",
       "OH                    0.026667 -0.027018  0.432658 -0.150247 -0.090031   \n",
       "RU                   -0.030376  0.038123  0.415946 -0.238279  0.011319   \n",
       "UA                   -0.129043 -0.001369 -0.031618 -0.128390  0.151945   \n",
       "US                   -0.044641 -0.125229 -0.115778  0.333400 -0.281716   \n",
       "EWR                   0.022438  0.078321  0.281130 -0.320201  0.173651   \n",
       "JFK                   0.102485  0.030049  0.018900 -0.144113  0.139535   \n",
       "LGA                  -0.099337 -0.097312 -0.281579  0.414026 -0.271255   \n",
       "1                    -0.010871  0.060780 -0.007113  0.004558 -0.000698   \n",
       "2                     0.005904 -0.000156 -0.020731  0.001565  0.010191   \n",
       "3                     0.013443 -0.029274 -0.011333  0.024610 -0.019205   \n",
       "4                    -0.011420 -0.015296 -0.034882  0.047385 -0.029531   \n",
       "5                    -0.035882  0.021130  0.023361 -0.004462 -0.008668   \n",
       "6                    -0.071616 -0.106185  0.012123 -0.055799  0.051286   \n",
       "7                     0.102559  0.047773  0.041649 -0.028753  0.006238   \n",
       "\n",
       "                      CO        DH        DL        MQ        OH  ...  \\\n",
       "Departure_time  0.056548  0.119727 -0.021972 -0.050918  0.026667  ...   \n",
       "Delayed         0.040504  0.076957 -0.094701  0.059440 -0.027018  ...   \n",
       "BWI            -0.065894 -0.174515 -0.122443 -0.128466  0.432658  ...   \n",
       "DCA             0.189752 -0.650511  0.352592  0.369939 -0.150247  ...   \n",
       "IAD            -0.160336  0.778020 -0.297933 -0.312590 -0.090031  ...   \n",
       "CO              1.000000 -0.134467 -0.094344 -0.098986 -0.028510  ...   \n",
       "DH             -0.134467  1.000000 -0.249864 -0.262156 -0.075505  ...   \n",
       "DL             -0.094344 -0.249864  1.000000 -0.183933 -0.052976  ...   \n",
       "MQ             -0.098986 -0.262156 -0.183933  1.000000 -0.055582  ...   \n",
       "OH             -0.028510 -0.075505 -0.052976 -0.055582  1.000000  ...   \n",
       "RU             -0.118041 -0.312621 -0.219340 -0.230131 -0.066282  ...   \n",
       "UA             -0.024362 -0.064521 -0.045269 -0.047496 -0.013680  ...   \n",
       "US             -0.089209 -0.236263 -0.165766 -0.173922 -0.050092  ...   \n",
       "EWR             0.311516 -0.049623 -0.302856 -0.317755 -0.091519  ...   \n",
       "JFK            -0.103929  0.302173 -0.053569  0.112395  0.274317  ...   \n",
       "LGA            -0.216962 -0.182850  0.328618  0.216448 -0.121827  ...   \n",
       "1               0.002883 -0.001779 -0.015847  0.007274  0.010424  ...   \n",
       "2               0.018532  0.025497  0.011859  0.005481 -0.004178  ...   \n",
       "3               0.017085 -0.018634  0.009305  0.002843 -0.004903  ...   \n",
       "4               0.001907 -0.042146  0.039889 -0.007772 -0.005621  ...   \n",
       "5               0.010112 -0.035320 -0.011120  0.013587 -0.008414  ...   \n",
       "6              -0.056066  0.068252 -0.014355 -0.034698  0.016777  ...   \n",
       "7              -0.004690  0.018008 -0.021740  0.006698 -0.001569  ...   \n",
       "\n",
       "                     EWR       JFK       LGA         1         2         3  \\\n",
       "Departure_time  0.022438  0.102485 -0.099337 -0.010871  0.005904  0.013443   \n",
       "Delayed         0.078321  0.030049 -0.097312  0.060780 -0.000156 -0.029274   \n",
       "BWI             0.281130  0.018900 -0.281579 -0.007113 -0.020731 -0.011333   \n",
       "DCA            -0.320201 -0.144113  0.414026  0.004558  0.001565  0.024610   \n",
       "IAD             0.173651  0.139535 -0.271255 -0.000698  0.010191 -0.019205   \n",
       "CO              0.311516 -0.103929 -0.216962  0.002883  0.018532  0.017085   \n",
       "DH             -0.049623  0.302173 -0.182850 -0.001779  0.025497 -0.018634   \n",
       "DL             -0.302856 -0.053569  0.328618 -0.015847  0.011859  0.009305   \n",
       "MQ             -0.317755  0.112395  0.216448  0.007274  0.005481  0.002843   \n",
       "OH             -0.091519  0.274317 -0.121827  0.010424 -0.004178 -0.004903   \n",
       "RU              0.724240 -0.241624 -0.504413 -0.004561 -0.041492 -0.008276   \n",
       "UA             -0.078205 -0.049868  0.112288  0.003663  0.011320 -0.017141   \n",
       "US             -0.286371 -0.182607  0.411174  0.009692 -0.014816  0.017586   \n",
       "EWR             1.000000 -0.333624 -0.696471 -0.007680 -0.021370 -0.006797   \n",
       "JFK            -0.333624  1.000000 -0.444112 -0.009156  0.006213 -0.035551   \n",
       "LGA            -0.696471 -0.444112  1.000000  0.014268  0.015581  0.033521   \n",
       "1              -0.007680 -0.009156  0.014268  1.000000 -0.185760 -0.187331   \n",
       "2              -0.021370  0.006213  0.015581 -0.185760  1.000000 -0.170967   \n",
       "3              -0.006797 -0.035551  0.033521 -0.187331 -0.170967  1.000000   \n",
       "4              -0.017232 -0.045816  0.051253 -0.188898 -0.172397 -0.173855   \n",
       "5               0.039324 -0.040277 -0.006716 -0.195112 -0.178068 -0.179574   \n",
       "6               0.000651  0.096402 -0.074000 -0.145778 -0.133044 -0.134169   \n",
       "7               0.012863  0.048265 -0.048964 -0.180214 -0.164472 -0.165863   \n",
       "\n",
       "                       4         5         6         7  \n",
       "Departure_time -0.011420 -0.035882 -0.071616  0.102559  \n",
       "Delayed        -0.015296  0.021130 -0.106185  0.047773  \n",
       "BWI            -0.034882  0.023361  0.012123  0.041649  \n",
       "DCA             0.047385 -0.004462 -0.055799 -0.028753  \n",
       "IAD            -0.029531 -0.008668  0.051286  0.006238  \n",
       "CO              0.001907  0.010112 -0.056066 -0.004690  \n",
       "DH             -0.042146 -0.035320  0.068252  0.018008  \n",
       "DL              0.039889 -0.011120 -0.014355 -0.021740  \n",
       "MQ             -0.007772  0.013587 -0.034698  0.006698  \n",
       "OH             -0.005621 -0.008414  0.016777 -0.001569  \n",
       "RU             -0.004144  0.039977  0.005413  0.013286  \n",
       "UA              0.009912  0.007198 -0.001341 -0.014656  \n",
       "US              0.023764 -0.011167 -0.012539 -0.015600  \n",
       "EWR            -0.017232  0.039324  0.000651  0.012863  \n",
       "JFK            -0.045816 -0.040277  0.096402  0.048265  \n",
       "LGA             0.051253 -0.006716 -0.074000 -0.048964  \n",
       "1              -0.188898 -0.195112 -0.145778 -0.180214  \n",
       "2              -0.172397 -0.178068 -0.133044 -0.164472  \n",
       "3              -0.173855 -0.179574 -0.134169 -0.165863  \n",
       "4               1.000000 -0.181076 -0.135291 -0.167250  \n",
       "5              -0.181076  1.000000 -0.139742 -0.172752  \n",
       "6              -0.135291 -0.139742  1.000000 -0.129072  \n",
       "7              -0.167250 -0.172752 -0.129072  1.000000  \n",
       "\n",
       "[23 rows x 23 columns]"
      ]
     },
     "execution_count": 43,
     "metadata": {},
     "output_type": "execute_result"
    }
   ],
   "source": [
    "flight_df.corr()"
   ]
  },
  {
   "cell_type": "markdown",
   "id": "d4e31425",
   "metadata": {},
   "source": [
    "From the correlation matrix above it can be seen that there is no feature that is highly coorelated with the delayed class.\n",
    "\n",
    "This can be verified with the pairplot of the DataFrame and the heatmap for the features of the dataFrame."
   ]
  },
  {
   "cell_type": "code",
   "execution_count": 44,
   "id": "f2dbb794",
   "metadata": {},
   "outputs": [
    {
     "data": {
      "image/png": "[encoded data removed]",
      "text/plain": [
       "<Figure size 2160x1800 with 2 Axes>"
      ]
     },
     "metadata": {
      "needs_background": "light"
     },
     "output_type": "display_data"
    }
   ],
   "source": [
    "plt.figure(figsize = (30, 25))\n",
    "sns.heatmap(flight_df.corr(), annot = True, cmap = \"Spectral\", mask = np.triu(flight_df.corr()))\n",
    "plt.show()"
   ]
  },
  {
   "cell_type": "markdown",
   "id": "f3bb2bc3",
   "metadata": {},
   "source": [
    "The model we are going to train is Gaussian Naiove Bayes. Hence feature scaling does not affect the performance of the model as it is not distance based."
   ]
  },
  {
   "cell_type": "markdown",
   "id": "9a1adf9a",
   "metadata": {},
   "source": [
    "### Step 4: Model Development"
   ]
  },
  {
   "cell_type": "markdown",
   "id": "ea1d25a7",
   "metadata": {},
   "source": [
    "###### X => Features\n",
    "###### y => Class"
   ]
  },
  {
   "cell_type": "code",
   "execution_count": 45,
   "id": "a6524bc6",
   "metadata": {},
   "outputs": [],
   "source": [
    "X = flight_df.drop(columns = ['Delayed'])"
   ]
  },
  {
   "cell_type": "code",
   "execution_count": 46,
   "id": "7c3dbec0",
   "metadata": {},
   "outputs": [],
   "source": [
    "y = flight_df['Delayed']"
   ]
  },
  {
   "cell_type": "markdown",
   "id": "7f5faf56",
   "metadata": {},
   "source": [
    "Splitting the dataset into training and testing samples.\n",
    "\n",
    "Stratifying the y or class variable gives equal ratio of y column split in train and test dataset"
   ]
  },
  {
   "cell_type": "code",
   "execution_count": 47,
   "id": "a411f6fb",
   "metadata": {},
   "outputs": [],
   "source": [
    "X_train, X_test, y_train, y_test=train_test_split(X,y,random_state=10,test_size=99, stratify=y)"
   ]
  },
  {
   "cell_type": "markdown",
   "id": "76f920a3",
   "metadata": {},
   "source": [
    "######  Training the Gaussian Naive Bayes model with the training dataset"
   ]
  },
  {
   "cell_type": "code",
   "execution_count": 48,
   "id": "db3c8fe1",
   "metadata": {},
   "outputs": [
    {
     "name": "stderr",
     "output_type": "stream",
     "text": [
      "C:\\Users\\sundh\\AppData\\Roaming\\Python\\Python39\\site-packages\\sklearn\\utils\\validation.py:1858: FutureWarning: Feature names only support names that are all strings. Got feature names with dtypes: ['int', 'str']. An error will be raised in 1.2.\n",
      "  warnings.warn(\n"
     ]
    },
    {
     "data": {
      "text/html": [
       "<style>#sk-container-id-1 {color: black;background-color: white;}#sk-container-id-1 pre{padding: 0;}#sk-container-id-1 div.sk-toggleable {background-color: white;}#sk-container-id-1 label.sk-toggleable__label {cursor: pointer;display: block;width: 100%;margin-bottom: 0;padding: 0.3em;box-sizing: border-box;text-align: center;}#sk-container-id-1 label.sk-toggleable__label-arrow:before {content: \"▸\";float: left;margin-right: 0.25em;color: #696969;}#sk-container-id-1 label.sk-toggleable__label-arrow:hover:before {color: black;}#sk-container-id-1 div.sk-estimator:hover label.sk-toggleable__label-arrow:before {color: black;}#sk-container-id-1 div.sk-toggleable__content {max-height: 0;max-width: 0;overflow: hidden;text-align: left;background-color: #f0f8ff;}#sk-container-id-1 div.sk-toggleable__content pre {margin: 0.2em;color: black;border-radius: 0.25em;background-color: #f0f8ff;}#sk-container-id-1 input.sk-toggleable__control:checked~div.sk-toggleable__content {max-height: 200px;max-width: 100%;overflow: auto;}#sk-container-id-1 input.sk-toggleable__control:checked~label.sk-toggleable__label-arrow:before {content: \"▾\";}#sk-container-id-1 div.sk-estimator input.sk-toggleable__control:checked~label.sk-toggleable__label {background-color: #d4ebff;}#sk-container-id-1 div.sk-label input.sk-toggleable__control:checked~label.sk-toggleable__label {background-color: #d4ebff;}#sk-container-id-1 input.sk-hidden--visually {border: 0;clip: rect(1px 1px 1px 1px);clip: rect(1px, 1px, 1px, 1px);height: 1px;margin: -1px;overflow: hidden;padding: 0;position: absolute;width: 1px;}#sk-container-id-1 div.sk-estimator {font-family: monospace;background-color: #f0f8ff;border: 1px dotted black;border-radius: 0.25em;box-sizing: border-box;margin-bottom: 0.5em;}#sk-container-id-1 div.sk-estimator:hover {background-color: #d4ebff;}#sk-container-id-1 div.sk-parallel-item::after {content: \"\";width: 100%;border-bottom: 1px solid gray;flex-grow: 1;}#sk-container-id-1 div.sk-label:hover label.sk-toggleable__label {background-color: #d4ebff;}#sk-container-id-1 div.sk-serial::before {content: \"\";position: absolute;border-left: 1px solid gray;box-sizing: border-box;top: 0;bottom: 0;left: 50%;z-index: 0;}#sk-container-id-1 div.sk-serial {display: flex;flex-direction: column;align-items: center;background-color: white;padding-right: 0.2em;padding-left: 0.2em;position: relative;}#sk-container-id-1 div.sk-item {position: relative;z-index: 1;}#sk-container-id-1 div.sk-parallel {display: flex;align-items: stretch;justify-content: center;background-color: white;position: relative;}#sk-container-id-1 div.sk-item::before, #sk-container-id-1 div.sk-parallel-item::before {content: \"\";position: absolute;border-left: 1px solid gray;box-sizing: border-box;top: 0;bottom: 0;left: 50%;z-index: -1;}#sk-container-id-1 div.sk-parallel-item {display: flex;flex-direction: column;z-index: 1;position: relative;background-color: white;}#sk-container-id-1 div.sk-parallel-item:first-child::after {align-self: flex-end;width: 50%;}#sk-container-id-1 div.sk-parallel-item:last-child::after {align-self: flex-start;width: 50%;}#sk-container-id-1 div.sk-parallel-item:only-child::after {width: 0;}#sk-container-id-1 div.sk-dashed-wrapped {border: 1px dashed gray;margin: 0 0.4em 0.5em 0.4em;box-sizing: border-box;padding-bottom: 0.4em;background-color: white;}#sk-container-id-1 div.sk-label label {font-family: monospace;font-weight: bold;display: inline-block;line-height: 1.2em;}#sk-container-id-1 div.sk-label-container {text-align: center;}#sk-container-id-1 div.sk-container {/* jupyter's `normalize.less` sets `[hidden] { display: none; }` but bootstrap.min.css set `[hidden] { display: none !important; }` so we also need the `!important` here to be able to override the default hidden behavior on the sphinx rendered scikit-learn.org. See: https://github.com/scikit-learn/scikit-learn/issues/21755 */display: inline-block !important;position: relative;}#sk-container-id-1 div.sk-text-repr-fallback {display: none;}</style><div id=\"sk-container-id-1\" class=\"sk-top-container\"><div class=\"sk-text-repr-fallback\"><pre>GaussianNB()</pre><b>In a Jupyter environment, please rerun this cell to show the HTML representation or trust the notebook. <br />On GitHub, the HTML representation is unable to render, please try loading this page with nbviewer.org.</b></div><div class=\"sk-container\" hidden><div class=\"sk-item\"><div class=\"sk-estimator sk-toggleable\"><input class=\"sk-toggleable__control sk-hidden--visually\" id=\"sk-estimator-id-1\" type=\"checkbox\" checked><label for=\"sk-estimator-id-1\" class=\"sk-toggleable__label sk-toggleable__label-arrow\">GaussianNB</label><div class=\"sk-toggleable__content\"><pre>GaussianNB()</pre></div></div></div></div></div>"
      ],
      "text/plain": [
       "GaussianNB()"
      ]
     },
     "execution_count": 48,
     "metadata": {},
     "output_type": "execute_result"
    }
   ],
   "source": [
    "gaussian_nb=GaussianNB()\n",
    "gaussian_nb.fit(X_train,y_train)"
   ]
  },
  {
   "cell_type": "code",
   "execution_count": 49,
   "id": "3bbd1e89",
   "metadata": {},
   "outputs": [
    {
     "name": "stderr",
     "output_type": "stream",
     "text": [
      "C:\\Users\\sundh\\AppData\\Roaming\\Python\\Python39\\site-packages\\sklearn\\utils\\validation.py:1858: FutureWarning: Feature names only support names that are all strings. Got feature names with dtypes: ['int', 'str']. An error will be raised in 1.2.\n",
      "  warnings.warn(\n"
     ]
    }
   ],
   "source": [
    "pred=gaussian_nb.predict(X_test)"
   ]
  },
  {
   "cell_type": "markdown",
   "id": "a2184199",
   "metadata": {},
   "source": [
    "### Step 5: Model Evaluation"
   ]
  },
  {
   "cell_type": "markdown",
   "id": "f3647c98",
   "metadata": {},
   "source": [
    "The performance of the model can be evaluated with some the evaluation metrics like:\n",
    "    \n",
    "    1. Accuracy score\n",
    "    2. Precision\n",
    "    3. Recall\n",
    "    4. F1_score\n",
    "    \n",
    "These metrics are calculated using the confusion matrix of the model."
   ]
  },
  {
   "cell_type": "code",
   "execution_count": 50,
   "id": "fbd3bea5",
   "metadata": {},
   "outputs": [],
   "source": [
    "def evaluate_metrics(yt,y_pr):\n",
    "    return pd.Series({'accuracy':accuracy_score(yt, y_pr),\n",
    "                      'precision':precision_score(yt, y_pr),\n",
    "                      'recall':recall_score(yt,y_pr),\n",
    "                      'f1_score':f1_score(yt, y_pr)},\n",
    "                      ).to_frame()"
   ]
  },
  {
   "cell_type": "code",
   "execution_count": 51,
   "id": "bcbcbd61",
   "metadata": {},
   "outputs": [
    {
     "data": {
      "text/html": [
       "<div>\n",
       "<style scoped>\n",
       "    .dataframe tbody tr th:only-of-type {\n",
       "        vertical-align: middle;\n",
       "    }\n",
       "\n",
       "    .dataframe tbody tr th {\n",
       "        vertical-align: top;\n",
       "    }\n",
       "\n",
       "    .dataframe thead th {\n",
       "        text-align: right;\n",
       "    }\n",
       "</style>\n",
       "<table border=\"1\" class=\"dataframe\">\n",
       "  <thead>\n",
       "    <tr style=\"text-align: right;\">\n",
       "      <th></th>\n",
       "      <th>0</th>\n",
       "    </tr>\n",
       "  </thead>\n",
       "  <tbody>\n",
       "    <tr>\n",
       "      <th>accuracy</th>\n",
       "      <td>0.646465</td>\n",
       "    </tr>\n",
       "    <tr>\n",
       "      <th>precision</th>\n",
       "      <td>0.519231</td>\n",
       "    </tr>\n",
       "    <tr>\n",
       "      <th>recall</th>\n",
       "      <td>0.729730</td>\n",
       "    </tr>\n",
       "    <tr>\n",
       "      <th>f1_score</th>\n",
       "      <td>0.606742</td>\n",
       "    </tr>\n",
       "  </tbody>\n",
       "</table>\n",
       "</div>"
      ],
      "text/plain": [
       "                  0\n",
       "accuracy   0.646465\n",
       "precision  0.519231\n",
       "recall     0.729730\n",
       "f1_score   0.606742"
      ]
     },
     "execution_count": 51,
     "metadata": {},
     "output_type": "execute_result"
    }
   ],
   "source": [
    "evaluate_metrics(y_test, pred)"
   ]
  },
  {
   "cell_type": "markdown",
   "id": "062e0a65",
   "metadata": {},
   "source": [
    "The model's accuracy is 0.6464 which is 64% which reveals 64 percent the model predicts the delay of the flight correctly."
   ]
  },
  {
   "cell_type": "markdown",
   "id": "e8821ce6",
   "metadata": {},
   "source": [
    "###### Plotting confusion matrix"
   ]
  },
  {
   "cell_type": "code",
   "execution_count": 52,
   "id": "8cb517c0",
   "metadata": {},
   "outputs": [],
   "source": [
    "cf = confusion_matrix(y_test, pred)"
   ]
  },
  {
   "cell_type": "code",
   "execution_count": 53,
   "id": "b81563bf",
   "metadata": {},
   "outputs": [
    {
     "data": {
      "text/plain": [
       "Text(33.0, 0.5, 'Actual')"
      ]
     },
     "execution_count": 53,
     "metadata": {},
     "output_type": "execute_result"
    },
    {
     "data": {
      "image/png": "[encoded data removed]",
      "text/plain": [
       "<Figure size 432x288 with 2 Axes>"
      ]
     },
     "metadata": {
      "needs_background": "light"
     },
     "output_type": "display_data"
    }
   ],
   "source": [
    "plt.title('Confusion Matrix',  fontsize=20)\n",
    "s = sns.heatmap(cf, annot=True, fmt=\"d\", xticklabels=[\"ontime\", \"delayed\"], yticklabels=[\"ontime\", \"delayed\"])\n",
    "s.set_xlabel('Predicted', fontsize=15)\n",
    "s.set_ylabel('Actual', fontsize=15)"
   ]
  },
  {
   "cell_type": "markdown",
   "id": "036c1bb2",
   "metadata": {},
   "source": [
    "From the confusion matrix following details can be derived:\n",
    "    \n",
    "out of 99 test samples,\n",
    "    \n",
    "    37 instances are predicted correctly as ontime\n",
    "    27 instances are predicted correctly as delayed\n",
    "    25 instances are mistakenly predicted as delayed but is actually ontime class\n",
    "    10 instances are mistakenly predicted as ontime but is actually delayed class"
   ]
  },
  {
   "cell_type": "markdown",
   "id": "c7509dfc",
   "metadata": {},
   "source": [
    "### Next Step:"
   ]
  },
  {
   "cell_type": "markdown",
   "id": "128320b4",
   "metadata": {},
   "source": [
    "1. The accuracy of the model is 0.6464 which is 64%. To improve the performance of the model we need more data as after selecting the feature and removing the duplicates we get only 952 examples.\n",
    "\n",
    "2. Shall add some more feature like climate and weather conditions to the dataset which improves quality of information to predict flight delay."
   ]
  }
 ],
 "metadata": {
  "kernelspec": {
   "display_name": "Python 3 (ipykernel)",
   "language": "python",
   "name": "python3"
  },
  "language_info": {
   "codemirror_mode": {
    "name": "ipython",
    "version": 3
   },
   "file_extension": ".py",
   "mimetype": "text/x-python",
   "name": "python",
   "nbconvert_exporter": "python",
   "pygments_lexer": "ipython3",
   "version": "3.9.12"
  }
 },
 "nbformat": 4,
 "nbformat_minor": 5
}
